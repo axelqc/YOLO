{
 "cells": [
  {
   "cell_type": "code",
   "execution_count": 1,
   "metadata": {},
   "outputs": [],
   "source": [
    "import os \n",
    "from zipfile import ZipFile "
   ]
  },
  {
   "cell_type": "code",
   "execution_count": 11,
   "metadata": {},
   "outputs": [],
   "source": [
    "os.chdir(r\"/Volumes/Microsumlacion DT/Daniela\")"
   ]
  },
  {
   "cell_type": "code",
   "execution_count": 5,
   "metadata": {},
   "outputs": [
    {
     "data": {
      "text/plain": [
       "['Abr',\n",
       " 'BICI BASE MUESTRAS',\n",
       " 'Ene',\n",
       " 'Feb',\n",
       " 'Jun',\n",
       " 'Mar',\n",
       " 'May',\n",
       " 'osm.net.xml',\n",
       " 'Procesadas',\n",
       " 'PROCESAR CAM',\n",
       " 'Resultados',\n",
       " 'Streets_SUMO_12_11_21.xlsx']"
      ]
     },
     "execution_count": 5,
     "metadata": {},
     "output_type": "execute_result"
    }
   ],
   "source": [
    "os.listdir()"
   ]
  },
  {
   "cell_type": "code",
   "execution_count": 9,
   "metadata": {},
   "outputs": [
    {
     "name": "stdout",
     "output_type": "stream",
     "text": [
      "Abr\n",
      "BICI BASE MUESTRAS\n",
      "Ene\n",
      "Feb\n",
      "Jun\n",
      "Mar\n",
      "May\n",
      "osm.net.xml\n",
      "Procesadas\n",
      "PROCESAR CAM\n",
      "Resultados\n",
      "Streets_SUMO_12_11_21.xlsx\n"
     ]
    }
   ],
   "source": [
    "import os, zipfile\n",
    "\n",
    "folder = r'/Volumes/Microsumlacion DT/Daniela'\n",
    "extension = \".zip\"\n",
    "\n",
    "for carpetas in os.listdir(folder):\n",
    "    print(carpetas)\n",
    "    #for zips in os.listdir(f'{folder}\\\\{carpetas}'):\n",
    "\n",
    "        #print(f'{folder}\\\\{zips}')\n",
    "        #if zips.endswith(extension):\n",
    "        #zipfile.ZipFile.extract(zips)"
   ]
  },
  {
   "cell_type": "code",
   "execution_count": 10,
   "metadata": {},
   "outputs": [
    {
     "name": "stdout",
     "output_type": "stream",
     "text": [
      "Carpeta: Abr\n"
     ]
    },
    {
     "ename": "OSError",
     "evalue": "[Errno 22] Invalid argument: '/Volumes/Microsumlacion DT/Daniela/Abr'",
     "output_type": "error",
     "traceback": [
      "\u001b[0;31m---------------------------------------------------------------------------\u001b[0m",
      "\u001b[0;31mOSError\u001b[0m                                   Traceback (most recent call last)",
      "Cell \u001b[0;32mIn[10], line 10\u001b[0m\n\u001b[1;32m      7\u001b[0m \u001b[38;5;28mprint\u001b[39m(\u001b[38;5;124mf\u001b[39m\u001b[38;5;124m'\u001b[39m\u001b[38;5;124mCarpeta: \u001b[39m\u001b[38;5;132;01m{\u001b[39;00mcarpetas\u001b[38;5;132;01m}\u001b[39;00m\u001b[38;5;124m'\u001b[39m)\n\u001b[1;32m      9\u001b[0m \u001b[38;5;66;03m# Recorre los archivos dentro de las subcarpetas\u001b[39;00m\n\u001b[0;32m---> 10\u001b[0m \u001b[38;5;28;01mfor\u001b[39;00m zips \u001b[38;5;129;01min\u001b[39;00m os\u001b[38;5;241m.\u001b[39mlistdir(carpeta_path):\n\u001b[1;32m     11\u001b[0m     zip_path \u001b[38;5;241m=\u001b[39m os\u001b[38;5;241m.\u001b[39mpath\u001b[38;5;241m.\u001b[39mjoin(carpeta_path, zips)\n\u001b[1;32m     13\u001b[0m     \u001b[38;5;66;03m# Verifica si es un archivo\u001b[39;00m\n",
      "\u001b[0;31mOSError\u001b[0m: [Errno 22] Invalid argument: '/Volumes/Microsumlacion DT/Daniela/Abr'"
     ]
    }
   ],
   "source": [
    "# Recorre las carpetas dentro del directorio\n",
    "for carpetas in os.listdir(folder):\n",
    "    carpeta_path = os.path.join(folder, carpetas)\n",
    "    \n",
    "    # Verifica que sea una carpeta\n",
    "    if os.path.isdir(carpeta_path):\n",
    "        print(f'Carpeta: {carpetas}')\n",
    "        \n",
    "        # Recorre los archivos dentro de las subcarpetas\n",
    "        for zips in os.listdir(carpeta_path):\n",
    "            zip_path = os.path.join(carpeta_path, zips)\n",
    "            \n",
    "            # Verifica si es un archivo\n",
    "            if os.path.isfile(zip_path):\n",
    "                # Elimina los espacios del nombre del archivo\n",
    "                nuevo_nombre = zips.replace(' ', '')\n",
    "                nuevo_path = os.path.join(carpeta_path, nuevo_nombre)\n",
    "                \n",
    "                # Renombra el archivo\n",
    "                os.rename(zip_path, nuevo_path)\n",
    "                print(f'Renombrado: {zips} -> {nuevo_nombre}')\n"
   ]
  },
  {
   "cell_type": "code",
   "execution_count": 13,
   "metadata": {},
   "outputs": [
    {
     "name": "stdout",
     "output_type": "stream",
     "text": [
      "Los archivos se extraerán en: /Users/valeriaserna/Videos_Extraidos_Daniela\n",
      "Buscando archivos ZIP en /Volumes/Microsumlacion DT/Daniela y subdirectorios...\n",
      "Descomprimiendo /Volumes/Microsumlacion DT/Daniela/Ene/Enero 21-25.zip en /Users/valeriaserna/Videos_Extraidos_Daniela/Ene/Enero 21-25...\n",
      "Error al descomprimir /Volumes/Microsumlacion DT/Daniela/Ene/Enero 21-25.zip: [Errno 28] No space left on device\n",
      "Descomprimiendo /Volumes/Microsumlacion DT/Daniela/Mar/mar 1.zip en /Users/valeriaserna/Videos_Extraidos_Daniela/Mar/mar 1...\n",
      "Error al descomprimir /Volumes/Microsumlacion DT/Daniela/Mar/mar 1.zip: [Errno 28] No space left on device: '/Users/valeriaserna/Videos_Extraidos_Daniela/Mar/mar 1/_0_1_07992E229A374B02A2A324F8121E87AA_/20210301_20210301051215_20210301221604_051215.jpg'\n",
      "Error al descomprimir /Volumes/Microsumlacion DT/Daniela/Mar/mar 10-11.zip: [Errno 28] No space left on device: '/Users/valeriaserna/Videos_Extraidos_Daniela/Mar/mar 10-11'\n",
      "Error al descomprimir /Volumes/Microsumlacion DT/Daniela/Mar/mar 12-13.zip: [Errno 28] No space left on device: '/Users/valeriaserna/Videos_Extraidos_Daniela/Mar/mar 12-13'\n",
      "Error al descomprimir /Volumes/Microsumlacion DT/Daniela/Mar/mar 14.zip: [Errno 28] No space left on device: '/Users/valeriaserna/Videos_Extraidos_Daniela/Mar/mar 14'\n",
      "Error al descomprimir /Volumes/Microsumlacion DT/Daniela/Mar/mar 15.zip: [Errno 28] No space left on device: '/Users/valeriaserna/Videos_Extraidos_Daniela/Mar/mar 15'\n",
      "Error al descomprimir /Volumes/Microsumlacion DT/Daniela/Mar/mar 16-17.zip: [Errno 28] No space left on device: '/Users/valeriaserna/Videos_Extraidos_Daniela/Mar/mar 16-17'\n",
      "Error al descomprimir /Volumes/Microsumlacion DT/Daniela/Mar/mar 18-20.zip: [Errno 28] No space left on device: '/Users/valeriaserna/Videos_Extraidos_Daniela/Mar/mar 18-20'\n",
      "Error al descomprimir /Volumes/Microsumlacion DT/Daniela/Mar/mar 2.zip: [Errno 28] No space left on device: '/Users/valeriaserna/Videos_Extraidos_Daniela/Mar/mar 2'\n",
      "Error al descomprimir /Volumes/Microsumlacion DT/Daniela/Mar/mar 21.zip: [Errno 28] No space left on device: '/Users/valeriaserna/Videos_Extraidos_Daniela/Mar/mar 21'\n",
      "Error al descomprimir /Volumes/Microsumlacion DT/Daniela/Mar/mar 22.zip: [Errno 28] No space left on device: '/Users/valeriaserna/Videos_Extraidos_Daniela/Mar/mar 22'\n",
      "Error al descomprimir /Volumes/Microsumlacion DT/Daniela/Mar/mar 24.zip: [Errno 28] No space left on device: '/Users/valeriaserna/Videos_Extraidos_Daniela/Mar/mar 24'\n",
      "Error al descomprimir /Volumes/Microsumlacion DT/Daniela/Mar/mar 25.zip: [Errno 28] No space left on device: '/Users/valeriaserna/Videos_Extraidos_Daniela/Mar/mar 25'\n",
      "Error al descomprimir /Volumes/Microsumlacion DT/Daniela/Mar/mar 26 -29.zip: [Errno 28] No space left on device: '/Users/valeriaserna/Videos_Extraidos_Daniela/Mar/mar 26 -29'\n",
      "Error al descomprimir /Volumes/Microsumlacion DT/Daniela/Mar/mar 3-4.zip: [Errno 28] No space left on device: '/Users/valeriaserna/Videos_Extraidos_Daniela/Mar/mar 3-4'\n",
      "Error al descomprimir /Volumes/Microsumlacion DT/Daniela/Mar/mar 30-31.zip: [Errno 28] No space left on device: '/Users/valeriaserna/Videos_Extraidos_Daniela/Mar/mar 30-31'\n",
      "Error al descomprimir /Volumes/Microsumlacion DT/Daniela/Mar/mar 5-6.zip: [Errno 28] No space left on device: '/Users/valeriaserna/Videos_Extraidos_Daniela/Mar/mar 5-6'\n",
      "Error al descomprimir /Volumes/Microsumlacion DT/Daniela/Mar/mar 8.zip: [Errno 28] No space left on device: '/Users/valeriaserna/Videos_Extraidos_Daniela/Mar/mar 8'\n",
      "Error al descomprimir /Volumes/Microsumlacion DT/Daniela/Mar/mar 9.zip: [Errno 28] No space left on device: '/Users/valeriaserna/Videos_Extraidos_Daniela/Mar/mar 9'\n",
      "\n",
      "Resumen:\n",
      "Total de archivos ZIP procesados: 19\n",
      "Archivos descomprimidos con éxito: 0\n",
      "Errores encontrados: 19\n",
      "Los archivos fueron extraídos en: /Users/valeriaserna/Videos_Extraidos_Daniela\n",
      "\n",
      "¡Proceso completado!\n"
     ]
    }
   ],
   "source": [
    "import os\n",
    "import zipfile\n",
    "from pathlib import Path\n",
    "import shutil\n",
    "from datetime import datetime\n",
    "\n",
    "# Directorio base donde están los archivos ZIP (solo lectura)\n",
    "directorio_base = r\"/Volumes/Microsumlacion DT/Daniela\"\n",
    "\n",
    "# Directorio de destino donde extraer los archivos (con permisos de escritura)\n",
    "# Por defecto usaremos una carpeta en el directorio del usuario\n",
    "directorio_destino_base = os.path.expanduser(\"~/Videos_Extraidos_Daniela\")\n",
    "\n",
    "# Crear la carpeta principal de destino si no existe\n",
    "os.makedirs(directorio_destino_base, exist_ok=True)\n",
    "print(f\"Los archivos se extraerán en: {directorio_destino_base}\")\n",
    "\n",
    "# Función para descomprimir un archivo ZIP\n",
    "def descomprimir_archivo(ruta_zip, carpeta_origen_relativa):\n",
    "    try:\n",
    "        # Obtener el nombre del archivo ZIP sin extensión\n",
    "        nombre_zip = os.path.splitext(os.path.basename(ruta_zip))[0]\n",
    "        \n",
    "        # Crear una ruta de destino específica para este ZIP\n",
    "        ruta_destino = os.path.join(directorio_destino_base, carpeta_origen_relativa, nombre_zip)\n",
    "        \n",
    "        # Crear el directorio de destino si no existe\n",
    "        os.makedirs(ruta_destino, exist_ok=True)\n",
    "        \n",
    "        with zipfile.ZipFile(ruta_zip, 'r') as zip_ref:\n",
    "            print(f\"Descomprimiendo {ruta_zip} en {ruta_destino}...\")\n",
    "            zip_ref.extractall(ruta_destino)\n",
    "            print(f\"¡Archivo {os.path.basename(ruta_zip)} descomprimido correctamente!\")\n",
    "        return True\n",
    "    except Exception as e:\n",
    "        print(f\"Error al descomprimir {ruta_zip}: {str(e)}\")\n",
    "        return False\n",
    "\n",
    "# Función para buscar todos los archivos ZIP en un directorio y sus subdirectorios\n",
    "def buscar_y_descomprimir(directorio_raiz):\n",
    "    contador = 0\n",
    "    errores = 0\n",
    "    \n",
    "    print(f\"Buscando archivos ZIP en {directorio_raiz} y subdirectorios...\")\n",
    "    \n",
    "    # Recorrer todos los directorios y subdirectorios\n",
    "    for carpeta_actual, _, archivos in os.walk(directorio_raiz):\n",
    "        for archivo in archivos:\n",
    "            # Comprobar si es un archivo ZIP\n",
    "            if archivo.lower().endswith('.zip'):\n",
    "                ruta_completa = os.path.join(carpeta_actual, archivo)\n",
    "                \n",
    "                # Obtener la ruta relativa para preservar la estructura\n",
    "                ruta_relativa = os.path.relpath(carpeta_actual, directorio_raiz)\n",
    "                if ruta_relativa == \".\":\n",
    "                    ruta_relativa = \"\"\n",
    "                \n",
    "                # Descomprimir el archivo\n",
    "                exito = descomprimir_archivo(ruta_completa, ruta_relativa)\n",
    "                \n",
    "                if exito:\n",
    "                    contador += 1\n",
    "                else:\n",
    "                    errores += 1\n",
    "    \n",
    "    print(f\"\\nResumen:\")\n",
    "    print(f\"Total de archivos ZIP procesados: {contador + errores}\")\n",
    "    print(f\"Archivos descomprimidos con éxito: {contador}\")\n",
    "    print(f\"Errores encontrados: {errores}\")\n",
    "    print(f\"Los archivos fueron extraídos en: {directorio_destino_base}\")\n",
    "\n",
    "# Ejecutar la función principal\n",
    "if __name__ == \"__main__\":\n",
    "    buscar_y_descomprimir(directorio_base)\n",
    "    print(\"\\n¡Proceso completado!\")"
   ]
  }
 ],
 "metadata": {
  "kernelspec": {
   "display_name": "Python 3",
   "language": "python",
   "name": "python3"
  },
  "language_info": {
   "codemirror_mode": {
    "name": "ipython",
    "version": 3
   },
   "file_extension": ".py",
   "mimetype": "text/x-python",
   "name": "python",
   "nbconvert_exporter": "python",
   "pygments_lexer": "ipython3",
   "version": "3.11.3"
  }
 },
 "nbformat": 4,
 "nbformat_minor": 2
}
